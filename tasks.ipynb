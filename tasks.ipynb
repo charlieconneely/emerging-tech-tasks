{
 "cells": [
  {
   "cell_type": "markdown",
   "metadata": {},
   "source": [
    "## Task 1:\n",
    "***Calculate the square root of 2 without using any imported Python libs.*** <br>\n",
    "### The Newton-Raphson Method [1, 2]\n",
    "\n",
    "The Newton-Raphson algorithm does not immediately calculate the square root of any number. <br>\n",
    "Instead it will, which each calculation, deliver an output which will become closer and closer to the exact <br>\n",
    "square root (if it exists). To achieve this, after each calculation, the algorithm must replace _n_ with the new, <br>\n",
    "more accurate approximation of the square root of *a* (where sqrt(n) times sqrt(n) = a). <br>\n",
    "\n",
    "![Newton Algorithm [2]](./images/newton-sqrt.PNG)\n",
    "<br>\n",
    "\n",
    "In my code, I first define the satisfactory degree of precision is 10 to the power of (-10), which in decimal terms is <br>\n",
    "0.0000000001 <br>\n",
    "I then set n as the value passed into the function as x. <br>\n",
    "I then execute a while loop that states while the absolute value of x - n times n is greater than the precision <br>\n",
    "(1e10) : Keep executing the Newton algorithm. <br>\n",
    "Through this method, the while loop will keep breaking down the value of n to a more precise estimation of the square <br>\n",
    "root of x until it reaches 10 decimal places.  "
   ]
  },
  {
   "cell_type": "code",
   "execution_count": 1,
   "metadata": {},
   "outputs": [],
   "source": [
    "def sqrt2(x):\n",
    "    # set precision at 10 pow -10 \n",
    "    precision = 10 ** (-10)\n",
    "    n = x/2\n",
    "    \n",
    "    # keep iterating the algorithm until it reaches\n",
    "    # satisfying precision\n",
    "    while (abs(x - (n * n)) > precision):\n",
    "        # Newton-Raphson algorithm\n",
    "        n = (1/2) * (n + (x / n))\n",
    "    \n",
    "    output = \"{:.100f}\".format(n)\n",
    "    print(output)"
   ]
  },
  {
   "cell_type": "code",
   "execution_count": 2,
   "metadata": {},
   "outputs": [
    {
     "name": "stdout",
     "output_type": "stream",
     "text": [
      "1.4142135623746898698271934335934929549694061279296875000000000000000000000000000000000000000000000000\n"
     ]
    }
   ],
   "source": [
    "sqrt2(2)"
   ]
  },
  {
   "cell_type": "markdown",
   "metadata": {},
   "source": [
    "***"
   ]
  },
  {
   "cell_type": "markdown",
   "metadata": {},
   "source": [
    "## Task 2 \n",
    "***Verify, using*** `scipy.stats` ***that the Chi-squared value based on the table below is approximately 24.6***\n",
    "![Wiki Table](./images/wiki-table.JPG)\n",
    "### The Chi-squared test for independence\n",
    "Most commonly used to test for the statistical independence or association between two or more categorical variables. [3]\n",
    "<br><br>\n",
    "The `scipy.stats` library provides the `chi2_contingency` function which computes the chi-square statistic and p-value for the hypothesis test of independence from the frequencies in a given contingency table. \n",
    "<br><br>\n",
    "**scipy.stats.chi2_contingency** [4]\n",
    "* **Params**: An array containing the observed frequencies in each category. \n",
    "* **Returns**: An object containing all results in the following format:\n",
    " * *float* chi2 - The test statistic\n",
    " * *float* p - The p value of the test\n",
    " * *int* dof - Degrees of freedom\n",
    " * array - The expected frequencies based on the marginal sums of the table (under the assumption of independence)."
   ]
  },
  {
   "cell_type": "code",
   "execution_count": 3,
   "metadata": {},
   "outputs": [
    {
     "name": "stdout",
     "output_type": "stream",
     "text": [
      "(24.5712028585826, 0.0004098425861096696, 6, array([[ 80.53846154,  80.53846154, 107.38461538,  80.53846154],\n",
      "       [ 34.84615385,  34.84615385,  46.46153846,  34.84615385],\n",
      "       [ 34.61538462,  34.61538462,  46.15384615,  34.61538462]]))\n",
      "\n",
      "Chi Sqaured result: 24.5712028585826\n",
      "P value: 0.0004098425861096696\n"
     ]
    }
   ],
   "source": [
    "import scipy.stats as stats\n",
    "\n",
    "categories = [[90, 60, 104, 95], [30, 50, 51, 20], [30, 40, 45, 35]]\n",
    "chi2,p,dof,exp = stats.chi2_contingency(categories)\n",
    "\n",
    "print(stats.chi2_contingency(categories))\n",
    "print(\"\\nChi Sqaured result: \" + str(chi2)) \n",
    "print(\"P value: \" + str(p))"
   ]
  },
  {
   "cell_type": "markdown",
   "metadata": {},
   "source": [
    "***"
   ]
  },
  {
   "cell_type": "markdown",
   "metadata": {},
   "source": [
    "## Task 3\n",
    "***Research and compare Microsoft Excel's two functions:*** `STDEV.P` ***and*** `STDEV.S`***, which perform different versions of the standard deviation calculation.*** <br/><br/>\n",
    "\n",
    "(The standard deviation is a measure of how much the values of a set differ from the mean value of that set) \n",
    "\n",
    "**`STDEV.P`** [5]\n",
    "* Calculates the standard deviation based on the entire population passed in as an argument. \n",
    "* It is assumed that the supplied argument is the entire population. \n",
    "* `STDEV.P` uses the following formula:  \n",
    "![STDEV.P](./images/stdevp.JPG) <br/>\n"
   ]
  },
  {
   "cell_type": "markdown",
   "metadata": {},
   "source": [
    "**`STDEV.S`** [6]\n",
    "* Calculates the standard deviation based on a sample of the population passed in as an argument.\n",
    "* `STDEV.S` is better suited to calculating the standard deviation of a sample because it calculates based off of `len(sample)-1`. This adjustment is a slight compensation for the fact that we are working with the sample of a population, and is supposed to provide a better estimate of the standard deviation for the entire population itself.  \n",
    "* `STDEV.S` uses the following formula: \n",
    "![STDEV.S](./images/stdevs.JPG) "
   ]
  },
  {
   "cell_type": "markdown",
   "metadata": {},
   "source": [
    "**Illustrated below:**\n",
    "* The actual SD of a population calculated using the formula from `STDEV.P`\n",
    "* The SD of a sample of this population using the same formula from `STDEV.P`\n",
    "* The more accurate estimation of the SD of the entire population when using the formula from `STDEV.S` on the sample"
   ]
  },
  {
   "cell_type": "code",
   "execution_count": 4,
   "metadata": {},
   "outputs": [],
   "source": [
    "import numpy as np\n",
    "\n",
    "# STDEV.P\n",
    "def STDEVP(x):\n",
    "    sd = np.sqrt(np.sum((x - np.mean(x))**2)/len(x))\n",
    "    return sd\n",
    "\n",
    "# STDEV.S\n",
    "def STDEVS(x):\n",
    "    sd = np.sqrt(np.sum((x - np.mean(x))**2)/(len(x)-1))\n",
    "    return sd"
   ]
  },
  {
   "cell_type": "code",
   "execution_count": 5,
   "metadata": {},
   "outputs": [
    {
     "name": "stdout",
     "output_type": "stream",
     "text": [
      "STDEV.P(population): 19.05785439284698\n",
      "STDEV.P(sample): 14.309088021254185\n",
      "STDEV.S(sample): 15.297058540778355\n"
     ]
    }
   ],
   "source": [
    "population = [1, 5, 8, 12, 12, 29, 59, 59, 23, 23, 45, 34, 23, 12, 1, 2, 34, 5, 6, 4, 55]\n",
    "# Sample of population\n",
    "sample = [1, 5, 8, 12, 12, 45, 34, 23]\n",
    "\n",
    "print(\"STDEV.P(population): \" + str(STDEVP(population)))\n",
    "print(\"STDEV.P(sample): \" + str(STDEVP(sample)))\n",
    "print(\"STDEV.S(sample): \" + str(STDEVS(sample)))"
   ]
  },
  {
   "cell_type": "markdown",
   "metadata": {},
   "source": [
    "***"
   ]
  },
  {
   "cell_type": "markdown",
   "metadata": {},
   "source": [
    "## Task 4\n",
    "***Using*** `scikit-learn`, ***apply k-means clustering Fisher's Iris dataset + explain how this model can be used to make predictions of species of iris.*** <br><br>\n",
    "\n",
    "**`sklearn.KMeans`** [7, 8] <br>\n",
    "The `kmeans` algorithm seeks to cluster data together around a specified number of *centroids* or center points. <br>\n",
    "Organising data into these clusters allows us to make predictions/assumptions about existing or incoming data.  \n",
    "* **Relevant Params**:\n",
    "  * `n_clusters`: The number of clusters to form (in our case 3 - one for each species of Iris)."
   ]
  },
  {
   "cell_type": "markdown",
   "metadata": {},
   "source": [
    "**Fisher's Iris data set** [9, 10]\n",
    "* Fisher's Iris data set consists of 50 samples from each of **three** species of Iris - **Iris setosa**, **Iris virginica** and **Iris versicolor**. <br>\n",
    "* Four features are measured from each sample: length + width in centimetres of the *sepals* and *petals*. <br>\n",
    "* Each sample is organised in the order: [sepal length, sepal width, petal length, petal width] "
   ]
  },
  {
   "cell_type": "code",
   "execution_count": 59,
   "metadata": {},
   "outputs": [],
   "source": [
    "# Supplier of iris data set\n",
    "from sklearn import datasets\n",
    "\n",
    "# Data clustering machine learning algorithm\n",
    "import sklearn.cluster as skcl\n",
    "\n",
    "# Plotting \n",
    "import matplotlib.pyplot as plt\n",
    "\n",
    "# Iris Data Set\n",
    "iris_ds = datasets.load_iris()\n",
    "\n",
    "sepal_data = iris_ds.data[:,:2]\n",
    "petal_data = iris_ds.data[:,-2:]"
   ]
  },
  {
   "cell_type": "code",
   "execution_count": 63,
   "metadata": {},
   "outputs": [
    {
     "data": {
      "text/plain": [
       "[<matplotlib.lines.Line2D at 0x7fcd539e7dd8>]"
      ]
     },
     "execution_count": 63,
     "metadata": {},
     "output_type": "execute_result"
    },
    {
     "data": {
      "image/png": "[encoded data removed]",
      "text/plain": [
       "<Figure size 432x288 with 1 Axes>"
      ]
     },
     "metadata": {
      "needs_background": "light"
     },
     "output_type": "display_data"
    }
   ],
   "source": [
    "plt.xlabel('Spea1 Length')\n",
    "plt.ylabel('Sepal Width')\n",
    "# Plot out Sepal Data with respect to targets   \n",
    "plt.scatter(sepal_data[:,0], sepal_data[:,1], c=iris_ds.target, cmap='brg')\n",
    "\n",
    "# Perform kmeans on sepal data \n",
    "sepalKMeans = skcl.KMeans(n_clusters=3, random_state=0).fit(sepal_data)\n",
    "sepal_centers = sepalKMeans.cluster_centers_\n",
    "# identify cluster centers \n",
    "plt.plot(sepal_centers[:,0], sepal_centers[:,1], 'ko')"
   ]
  },
  {
   "cell_type": "code",
   "execution_count": 68,
   "metadata": {
    "scrolled": true
   },
   "outputs": [
    {
     "data": {
      "text/plain": [
       "[<matplotlib.lines.Line2D at 0x7fcd53495908>]"
      ]
     },
     "execution_count": 68,
     "metadata": {},
     "output_type": "execute_result"
    },
    {
     "data": {
      "image/png": "[encoded data removed]",
      "text/plain": [
       "<Figure size 432x288 with 1 Axes>"
      ]
     },
     "metadata": {
      "needs_background": "light"
     },
     "output_type": "display_data"
    }
   ],
   "source": [
    "plt.xlabel('Petal Length')\n",
    "plt.ylabel('Petal Width')\n",
    "# Plot out Petal data\n",
    "plt.scatter(petal_data[:,0], petal_data[:,1], c=iris_ds.target, cmap='brg')\n",
    "\n",
    "# Perform kmeans on petal\n",
    "petalKMeans = skcl.KMeans(n_clusters=3, random_state=0).fit(petal_data)\n",
    "petal_centers = petalKMeans.cluster_centers_\n",
    "# identify cluster centers \n",
    "plt.plot(petal_centers[:,0], petal_centers[:,1], 'ko')"
   ]
  },
  {
   "cell_type": "code",
   "execution_count": 77,
   "metadata": {},
   "outputs": [
    {
     "name": "stdout",
     "output_type": "stream",
     "text": [
      "[[5.9016129  2.7483871  4.39354839 1.43387097]\n",
      " [5.006      3.418      1.464      0.244     ]\n",
      " [6.85       3.07368421 5.74210526 2.07105263]]\n"
     ]
    },
    {
     "data": {
      "text/plain": [
       "[<matplotlib.lines.Line2D at 0x7fcd52f71208>,\n",
       " <matplotlib.lines.Line2D at 0x7fcd52f71358>]"
      ]
     },
     "execution_count": 77,
     "metadata": {},
     "output_type": "execute_result"
    },
    {
     "data": {
      "image/png": "[encoded data removed]",
      "text/plain": [
       "<Figure size 432x288 with 1 Axes>"
      ]
     },
     "metadata": {
      "needs_background": "light"
     },
     "output_type": "display_data"
    }
   ],
   "source": [
    "# Perform KMeans clustering on iris data set\n",
    "kmeans = skcl.KMeans(n_clusters=3, random_state=0)\n",
    "model = kmeans.fit(iris_ds.data)\n",
    "\n",
    "centers = model.cluster_centers_\n",
    "print(centers)\n",
    "\n",
    "plt.plot(centers[:,0], centers[:,1], centers[:,2], centers[:,3], 'kx')\n",
    "\n",
    "# plt.plot(model.labels_, 'gx')t"
   ]
  },
  {
   "cell_type": "markdown",
   "metadata": {},
   "source": [
    "***"
   ]
  },
  {
   "cell_type": "markdown",
   "metadata": {},
   "source": [
    "### References:\n",
    "* [1] **Medium.com; Newton-Raphson Method;** https://medium.com/@surajregmi/how-to-calculate-the-square-root-of-a-number-newton-raphson-method-f8007714f64#:~:text=Algorithm,root%20and%20divide%20by%202.&text=Continue%20step%202%20until%20the,value%20(or%20precision%20value). \n",
    "* [2] **S.G. Johnson, MIT; Square Roots via Newton’s Method;** https://math.mit.edu/~stevenj/18.335/newton-sqrt.pdf \n",
    "* [3] **Kent.edu; Chi-Square Test Of Independence;** https://libguides.library.kent.edu/spss/chisquare#:~:text=The%20Chi%2DSquare%20Test%20of%20Independence%20determines%20whether%20there%20is,Chi%2DSquare%20Test%20of%20Association.\n",
    "* [4] **SciPy.org; scipy.stats.chi2_contingency;** https://docs.scipy.org/doc/scipy/reference/generated/scipy.stats.chi2_contingency.html\n",
    "* [5] **Microsoft.com; STDEV.P function;** https://support.microsoft.com/en-us/office/stdev-p-function-6e917c05-31a0-496f-ade7-4f4e7462f285\n",
    "* [6] **Microsoft.com; STDEV.S function;** https://support.microsoft.com/en-us/office/stdev-s-function-7d69cf97-0c1f-4acf-be27-f3e83904cc23\n",
    "* [9] **wikipedia.org; Fisher's Iris Data Set;** https://en.wikipedia.org/wiki/Iris_flower_data_set\n",
    "* [10] **scikit-learn.org; The Iris Dataset;** https://scikit-learn.org/stable/auto_examples/datasets/plot_iris_dataset.html\n",
    "* [7] **scikit-learn.org; KMeans docs;** https://scikit-learn.org/stable/modules/generated/sklearn.cluster.KMeans.html\n",
    "* [8] **scikit-learn.org; Clustering - Kmeans;** https://scikit-learn.org/stable/modules/clustering.html#k-means"
   ]
  },
  {
   "cell_type": "code",
   "execution_count": null,
   "metadata": {},
   "outputs": [],
   "source": []
  }
 ],
 "metadata": {
  "kernelspec": {
   "display_name": "Python 3",
   "language": "python",
   "name": "python3"
  },
  "language_info": {
   "codemirror_mode": {
    "name": "ipython",
    "version": 3
   },
   "file_extension": ".py",
   "mimetype": "text/x-python",
   "name": "python",
   "nbconvert_exporter": "python",
   "pygments_lexer": "ipython3",
   "version": "3.7.0"
  }
 },
 "nbformat": 4,
 "nbformat_minor": 4
}
