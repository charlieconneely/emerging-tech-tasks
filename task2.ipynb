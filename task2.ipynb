{
 "cells": [
  {
   "cell_type": "markdown",
   "metadata": {},
   "source": [
    "## Task 2 \n",
    "### The Chi-squared test for independence\n",
    "Most commonly used to test for the statistical independence or association between two or more categorical variables. [1]\n",
    "<br><br>\n",
    "The `scipy.stats` library provides the `chi2_contingency` function which computes the chi-square statistic and p-value for the hypothesis test of independence from the frequencies in a given contingency table. \n",
    "<br><br>\n",
    "**scipy.stats.chi2_contingency** [2]\n",
    "* **Params**: An array containing the observed frequencies in each category. \n",
    "* **Returns**: An object containing all results in the following format:\n",
    " * *float* chi2 - The test statistic\n",
    " * *float* p - The p value of the test\n",
    " * *int* dof - Degrees of freedom\n",
    " * array - The expected frequencies based on the marginal sums of the table (under the assumption of independence)."
   ]
  },
  {
   "cell_type": "code",
   "execution_count": 8,
   "metadata": {},
   "outputs": [
    {
     "name": "stdout",
     "output_type": "stream",
     "text": [
      "(24.5712028585826, 0.0004098425861096696, 6, array([[ 80.53846154,  80.53846154, 107.38461538,  80.53846154],\n",
      "       [ 34.84615385,  34.84615385,  46.46153846,  34.84615385],\n",
      "       [ 34.61538462,  34.61538462,  46.15384615,  34.61538462]]))\n",
      "\n",
      "Chi Sqaured result: 24.5712028585826\n",
      "P value: 0.0004098425861096696\n"
     ]
    }
   ],
   "source": [
    "import scipy.stats as stats\n",
    "\n",
    "categories = [[90, 60, 104, 95], [30, 50, 51, 20], [30, 40, 45, 35]]\n",
    "chi2,p,dof,exp = stats.chi2_contingency(categories)\n",
    "\n",
    "print(stats.chi2_contingency(categories))\n",
    "print(\"\\nChi Sqaured result: \" + str(chi2)) \n",
    "print(\"P value: \" + str(p))"
   ]
  },
  {
   "cell_type": "markdown",
   "metadata": {},
   "source": [
    "### References:\n",
    "* [1] https://libguides.library.kent.edu/spss/chisquare#:~:text=The%20Chi%2DSquare%20Test%20of%20Independence%20determines%20whether%20there%20is,Chi%2DSquare%20Test%20of%20Association.\n",
    "* [2] https://docs.scipy.org/doc/scipy/reference/generated/scipy.stats.chi2_contingency.html"
   ]
  },
  {
   "cell_type": "code",
   "execution_count": null,
   "metadata": {},
   "outputs": [],
   "source": []
  },
  {
   "cell_type": "code",
   "execution_count": null,
   "metadata": {},
   "outputs": [],
   "source": []
  }
 ],
 "metadata": {
  "kernelspec": {
   "display_name": "Python 3",
   "language": "python",
   "name": "python3"
  },
  "language_info": {
   "codemirror_mode": {
    "name": "ipython",
    "version": 3
   },
   "file_extension": ".py",
   "mimetype": "text/x-python",
   "name": "python",
   "nbconvert_exporter": "python",
   "pygments_lexer": "ipython3",
   "version": "3.7.0"
  }
 },
 "nbformat": 4,
 "nbformat_minor": 2
}
