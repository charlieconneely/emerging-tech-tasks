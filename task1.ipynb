{
 "cells": [
  {
   "cell_type": "markdown",
   "metadata": {},
   "source": [
    "## Task 1:\n",
    "***Calculate the square root of 2 without using any imported Python libs.*** <br>\n",
    "### The Newton-Raphson Method [1, 2]\n",
    "\n",
    "The Newton-Raphson algorithm does not immediately calculate the square root of any number. <br>\n",
    "Instead it will, which each calculation, deliver an output which will become closer and closer to the exact <br>\n",
    "square root (if it exists). To achieve this, after each calculation, the algorithm must replace _n_ with the new, <br>\n",
    "more accurate approximation of the square root of *a* (where sqrt(n) times sqrt(n) = a). <br>\n",
    "\n",
    "![Newton Algorithm [2]](./images/newton-sqrt.PNG)\n",
    "<br>\n",
    "\n",
    "In my code, I first define the satisfactory degree of precision is 10 to the power of (-10), which in decimal terms is <br>\n",
    "0.0000000001 <br>\n",
    "I then set n as the value passed into the function as x. <br>\n",
    "I then execute a while loop that states while the absolute value of x - n times n is greater than the precision <br>\n",
    "(1e10) : Keep executing the Newton algorithm. <br>\n",
    "Through this method, the while loop will keep breaking down the value of n to a more precise estimation of the square <br>\n",
    "root of x until it reaches 10 decimal places.  "
   ]
  },
  {
   "cell_type": "code",
   "execution_count": 1,
   "metadata": {},
   "outputs": [],
   "source": [
    "def sqrt2(x):\n",
    "    # set precision at 10 pow -10 \n",
    "    precision = 10 ** (-10)\n",
    "    n = x/2\n",
    "    \n",
    "    # keep iterating the algorithm until it reaches\n",
    "    # satisfying precision\n",
    "    while (abs(x - (n * n)) > precision):\n",
    "        # Newton-Raphson algorithm\n",
    "        n = (1/2) * (n + (x / n))\n",
    "    \n",
    "    output = \"{:.100f}\".format(n)\n",
    "    print(output)"
   ]
  },
  {
   "cell_type": "code",
   "execution_count": 2,
   "metadata": {},
   "outputs": [
    {
     "name": "stdout",
     "output_type": "stream",
     "text": [
      "1.4142135623746898698271934335934929549694061279296875000000000000000000000000000000000000000000000000\n"
     ]
    }
   ],
   "source": [
    "sqrt2(2)"
   ]
  },
  {
   "cell_type": "markdown",
   "metadata": {},
   "source": [
    "***"
   ]
  },
  {
   "cell_type": "markdown",
   "metadata": {},
   "source": [
    "## Task 2 \n",
    "***Verify, using `scipy.stats` that the Chi-squared value based on the table below is approximately 24.6***\n",
    "![Wiki Table](./images/wiki-table.JPG)\n",
    "### The Chi-squared test for independence\n",
    "Most commonly used to test for the statistical independence or association between two or more categorical variables. [3]\n",
    "<br><br>\n",
    "The `scipy.stats` library provides the `chi2_contingency` function which computes the chi-square statistic and p-value for the hypothesis test of independence from the frequencies in a given contingency table. \n",
    "<br><br>\n",
    "**scipy.stats.chi2_contingency** [4]\n",
    "* **Params**: An array containing the observed frequencies in each category. \n",
    "* **Returns**: An object containing all results in the following format:\n",
    " * *float* chi2 - The test statistic\n",
    " * *float* p - The p value of the test\n",
    " * *int* dof - Degrees of freedom\n",
    " * array - The expected frequencies based on the marginal sums of the table (under the assumption of independence)."
   ]
  },
  {
   "cell_type": "code",
   "execution_count": 1,
   "metadata": {},
   "outputs": [
    {
     "name": "stdout",
     "output_type": "stream",
     "text": [
      "(24.5712028585826, 0.0004098425861096696, 6, array([[ 80.53846154,  80.53846154, 107.38461538,  80.53846154],\n",
      "       [ 34.84615385,  34.84615385,  46.46153846,  34.84615385],\n",
      "       [ 34.61538462,  34.61538462,  46.15384615,  34.61538462]]))\n",
      "\n",
      "Chi Sqaured result: 24.5712028585826\n",
      "P value: 0.0004098425861096696\n"
     ]
    }
   ],
   "source": [
    "import scipy.stats as stats\n",
    "\n",
    "categories = [[90, 60, 104, 95], [30, 50, 51, 20], [30, 40, 45, 35]]\n",
    "chi2,p,dof,exp = stats.chi2_contingency(categories)\n",
    "\n",
    "print(stats.chi2_contingency(categories))\n",
    "print(\"\\nChi Sqaured result: \" + str(chi2)) \n",
    "print(\"P value: \" + str(p))"
   ]
  },
  {
   "cell_type": "markdown",
   "metadata": {},
   "source": [
    "***"
   ]
  },
  {
   "cell_type": "markdown",
   "metadata": {},
   "source": [
    "### References:\n",
    "* [1] Medium.com; Newton-Raphson Method; https://medium.com/@surajregmi/how-to-calculate-the-square-root-of-a-number-newton-raphson-method-f8007714f64#:~:text=Algorithm,root%20and%20divide%20by%202.&text=Continue%20step%202%20until%20the,value%20(or%20precision%20value). \n",
    "* [2] S.G. Johnson, MIT; Square Roots via Newton’s Method; https://math.mit.edu/~stevenj/18.335/newton-sqrt.pdf \n",
    "* [3] Kent.edu; Chi-Square Test Of Independence; https://libguides.library.kent.edu/spss/chisquare#:~:text=The%20Chi%2DSquare%20Test%20of%20Independence%20determines%20whether%20there%20is,Chi%2DSquare%20Test%20of%20Association.\n",
    "* [4] SciPy.org; scipy.stats.chi2_contingency; https://docs.scipy.org/doc/scipy/reference/generated/scipy.stats.chi2_contingency.html"
   ]
  },
  {
   "cell_type": "code",
   "execution_count": null,
   "metadata": {},
   "outputs": [],
   "source": []
  },
  {
   "cell_type": "code",
   "execution_count": null,
   "metadata": {},
   "outputs": [],
   "source": [
    "\n",
    "\n",
    "\n"
   ]
  },
  {
   "cell_type": "code",
   "execution_count": null,
   "metadata": {},
   "outputs": [],
   "source": []
  },
  {
   "cell_type": "code",
   "execution_count": null,
   "metadata": {},
   "outputs": [],
   "source": []
  }
 ],
 "metadata": {
  "kernelspec": {
   "display_name": "Python 3",
   "language": "python",
   "name": "python3"
  },
  "language_info": {
   "codemirror_mode": {
    "name": "ipython",
    "version": 3
   },
   "file_extension": ".py",
   "mimetype": "text/x-python",
   "name": "python",
   "nbconvert_exporter": "python",
   "pygments_lexer": "ipython3",
   "version": "3.7.0"
  }
 },
 "nbformat": 4,
 "nbformat_minor": 4
}
