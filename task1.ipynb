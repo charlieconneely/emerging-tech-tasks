{
 "cells": [
  {
   "cell_type": "markdown",
   "metadata": {},
   "source": [
    "## Task 1\n",
    "In this task I have been asked to calculate the square root of 2 without using any imported Python libs. <br>\n",
    "\n",
    "### The Newton-Raphson Method [1, 2]\n",
    "\n",
    "The Newton-Raphson algorithm does not immediately calculate the square root of any number. <br>\n",
    "Instead it will, which each calculation, deliver an output which will become closer and closer to the exact <br>\n",
    "square root (if it exists). To achieve this, after each calculation, the algorithm must replace *n* with the new, <br>\n",
    "more accurate approximation of the square root of *a* (where sqrt(n) * sqrt(n) = a). <br>\n",
    "\n",
    "![Newton Algorithm [2]](./images/newton-sqrt.PNG)\n",
    "<br>\n",
    "\n",
    "In my code, I first define the satisfactory degree of precision is 10 to the power of (-10), which in decimal terms is <br>\n",
    "0.0000000001 <br>\n",
    "I then set *n* as the value passed into the function as *x*. <br>\n",
    "I then execute a while loop that states while the absolute value of *x* - *n* * *n* is greater than the precision <br>\n",
    "(1e10) : Keep executing the Newton algorithm. <br>\n",
    "Through this method, the while loop will keep breaking down the value of *n* to a more precise estimation of the square <br>\n",
    "root of x until it reaches 10 decimal places.  \n",
    "\n",
    "**References** <br>\n",
    "[1] Medium.com; Newton-Raphson Method; https://medium.com/@surajregmi/how-to-calculate-the-square-root-of-a-number-newton-raphson-method-f8007714f64#:~:text=Algorithm,root%20and%20divide%20by%202.&text=Continue%20step%202%20until%20the,value%20(or%20precision%20value). <br>\n",
    "[2] S.G. Johnson, MIT; Square Roots via Newton’s Method; https://math.mit.edu/~stevenj/18.335/newton-sqrt.pdf <br> "
   ]
  },
  {
   "cell_type": "code",
   "execution_count": 32,
   "metadata": {},
   "outputs": [],
   "source": [
    "def sqrt2(x):\n",
    "    # set precision at 10 pow -10 \n",
    "    precision = 10 ** (-10)\n",
    "    n = x/2\n",
    "    \n",
    "    # keep iterating the algorithm until it reaches\n",
    "    # satisfying precision\n",
    "    while (abs(x - (n * n)) > precision):\n",
    "        # Newton-Raphson algorithm\n",
    "        n = (1/2) * (n + (x / n))\n",
    "        \n",
    "    output = \"{:.100f}\".format(n)\n",
    "    print(output)"
   ]
  },
  {
   "cell_type": "code",
   "execution_count": 33,
   "metadata": {},
   "outputs": [
    {
     "name": "stdout",
     "output_type": "stream",
     "text": [
      "1.4142135623746898698271934335934929549694061279296875000000000000000000000000000000000000000000000000\n"
     ]
    }
   ],
   "source": [
    "sqrt2(2)"
   ]
  },
  {
   "cell_type": "code",
   "execution_count": 5,
   "metadata": {},
   "outputs": [
    {
     "name": "stdout",
     "output_type": "stream",
     "text": [
      "1e-100\n",
      "0.0000000000000000000000000000000000000000000000000000000000000000000000000000000000000000000000000001\n"
     ]
    }
   ],
   "source": [
    "# nums with 100 decimal places allowed \n",
    "# for storage and output\n",
    "num = 10 ** (-100)\n",
    "print(num)\n",
    "print(\"{:.100f}\".format(num))"
   ]
  },
  {
   "cell_type": "code",
   "execution_count": null,
   "metadata": {},
   "outputs": [],
   "source": []
  },
  {
   "cell_type": "code",
   "execution_count": null,
   "metadata": {},
   "outputs": [],
   "source": []
  }
 ],
 "metadata": {
  "kernelspec": {
   "display_name": "Python 3",
   "language": "python",
   "name": "python3"
  },
  "language_info": {
   "codemirror_mode": {
    "name": "ipython",
    "version": 3
   },
   "file_extension": ".py",
   "mimetype": "text/x-python",
   "name": "python",
   "nbconvert_exporter": "python",
   "pygments_lexer": "ipython3",
   "version": "3.8.2"
  }
 },
 "nbformat": 4,
 "nbformat_minor": 4
}
